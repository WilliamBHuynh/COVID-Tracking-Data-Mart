{
 "cells": [
  {
   "cell_type": "markdown",
   "id": "eleven-borough",
   "metadata": {},
   "source": [
    "## Deliverable E, Part B: Gradient Boosting (Group 20)"
   ]
  },
  {
   "cell_type": "code",
   "execution_count": 40,
   "id": "silent-oakland",
   "metadata": {},
   "outputs": [],
   "source": [
    "from configparser import ConfigParser\n",
    "import pandas as pd\n",
    "import numpy as np\n",
    "import pandas.io.sql as sqlio\n",
    "from sklearn.ensemble import GradientBoostingClassifier\n",
    "from sklearn.model_selection import train_test_split\n",
    "from sklearn.svm import LinearSVC\n",
    "from sklearn.metrics import recall_score, precision_score, classification_report, accuracy_score\n",
    "from collections import Counter"
   ]
  },
  {
   "cell_type": "code",
   "execution_count": 41,
   "id": "split-energy",
   "metadata": {},
   "outputs": [],
   "source": [
    "# Load data into dataframes\n",
    "labels = pd.read_csv(\"Labels.csv\")\n",
    "features = pd.read_csv(\"Feature_Values_Selected.csv\")\n",
    "x_test = pd.read_csv(\"X_Test.csv\")\n",
    "y_test = pd.read_csv(\"Y_Test.csv\")\n",
    "x_train = pd.read_csv(\"X_Train.csv\")\n",
    "y_train = pd.read_csv(\"Y_Train.csv\")"
   ]
  },
  {
   "cell_type": "code",
   "execution_count": 42,
   "id": "mexican-condition",
   "metadata": {},
   "outputs": [
    {
     "data": {
      "text/html": [
       "<div>\n",
       "<style scoped>\n",
       "    .dataframe tbody tr th:only-of-type {\n",
       "        vertical-align: middle;\n",
       "    }\n",
       "\n",
       "    .dataframe tbody tr th {\n",
       "        vertical-align: top;\n",
       "    }\n",
       "\n",
       "    .dataframe thead th {\n",
       "        text-align: right;\n",
       "    }\n",
       "</style>\n",
       "<table border=\"1\" class=\"dataframe\">\n",
       "  <thead>\n",
       "    <tr style=\"text-align: right;\">\n",
       "      <th></th>\n",
       "      <th>outbreak_related</th>\n",
       "    </tr>\n",
       "  </thead>\n",
       "  <tbody>\n",
       "    <tr>\n",
       "      <th>0</th>\n",
       "      <td>1</td>\n",
       "    </tr>\n",
       "    <tr>\n",
       "      <th>1</th>\n",
       "      <td>0</td>\n",
       "    </tr>\n",
       "    <tr>\n",
       "      <th>2</th>\n",
       "      <td>0</td>\n",
       "    </tr>\n",
       "    <tr>\n",
       "      <th>3</th>\n",
       "      <td>0</td>\n",
       "    </tr>\n",
       "    <tr>\n",
       "      <th>4</th>\n",
       "      <td>0</td>\n",
       "    </tr>\n",
       "  </tbody>\n",
       "</table>\n",
       "</div>"
      ],
      "text/plain": [
       "   outbreak_related\n",
       "0                 1\n",
       "1                 0\n",
       "2                 0\n",
       "3                 0\n",
       "4                 0"
      ]
     },
     "execution_count": 42,
     "metadata": {},
     "output_type": "execute_result"
    }
   ],
   "source": [
    "labels.head()"
   ]
  },
  {
   "cell_type": "code",
   "execution_count": 43,
   "id": "conceptual-rebecca",
   "metadata": {},
   "outputs": [
    {
     "name": "stdout",
     "output_type": "stream",
     "text": [
      "Training set Counter({'0.000000000000000000e+00': 1, '0.000000000000000000e+00.1': 1, '0.000000000000000000e+00.2': 1, '4.431818181818182323e-01': 1, '0.000000000000000000e+00.3': 1, '1.000000000000000000e+00': 1, '1.000000000000000000e+00.1': 1, '0.000000000000000000e+00.4': 1, '0.000000000000000000e+00.5': 1, '5.125000000000000666e-01': 1, '6.097560975609757072e-01': 1, '2.923076923076923239e-01': 1, '3.518518518518518601e-01': 1, '2.500000000000000000e-01': 1, '6.451612903225806273e-01': 1, '2.000000000000000111e-01': 1, '1.000000000000000000e+00.2': 1, '0.000000000000000000e+00.6': 1, '1.000000000000000000e+00.3': 1, '0.000000000000000000e+00.7': 1, '0.000000000000000000e+00.8': 1, '0.000000000000000000e+00.9': 1, '0.000000000000000000e+00.10': 1, '1.000000000000000000e+00.4': 1, '0.000000000000000000e+00.11': 1, '0.000000000000000000e+00.12': 1}) \n",
      "Test set Counter({'0.000000000000000000e+00': 1, '0.000000000000000000e+00.1': 1, '0.000000000000000000e+00.2': 1, '6.136363636363636465e-01': 1, '7.782101167315175205e-03': 1, '0.000000000000000000e+00.3': 1, '0.000000000000000000e+00.4': 1, '2.000000000000000111e-01': 1, '1.666666666666666852e-01': 1, '6.000000000000000888e-01': 1, '5.609756097560976151e-01': 1, '1.487179487179487170e-01': 1, '5.185185185185183787e-01': 1, '4.318181818181818787e-01': 1, '4.838709677419353872e-01': 1, '1.000000000000000056e-01': 1, '1.000000000000000000e+00': 1, '1.000000000000000000e+00.1': 1, '0.000000000000000000e+00.5': 1, '0.000000000000000000e+00.6': 1, '0.000000000000000000e+00.7': 1, '0.000000000000000000e+00.8': 1, '0.000000000000000000e+00.9': 1, '0.000000000000000000e+00.10': 1, '0.000000000000000000e+00.11': 1, '1.000000000000000000e+00.2': 1}) \n"
     ]
    }
   ],
   "source": [
    "# Checking no. of records per class in training and test set\n",
    "print(\"Training set {} \".format(Counter(x_train)))\n",
    "print(\"Test set {} \".format(Counter(x_test)))"
   ]
  },
  {
   "cell_type": "code",
   "execution_count": 51,
   "id": "electric-prophet",
   "metadata": {},
   "outputs": [
    {
     "name": "stderr",
     "output_type": "stream",
     "text": [
      "/home/whuyn056/.local/lib/python3.6/site-packages/sklearn/utils/validation.py:63: DataConversionWarning: A column-vector y was passed when a 1d array was expected. Please change the shape of y to (n_samples, ), for example using ravel().\n",
      "  return f(*args, **kwargs)\n"
     ]
    },
    {
     "name": "stdout",
     "output_type": "stream",
     "text": [
      "--- 5.12359356880188 seconds ---\n"
     ]
    }
   ],
   "source": [
    "# Fit the training data onto the gradient boosting classifer\n",
    "clf = GradientBoostingClassifier(n_estimators=150)\n",
    "clf.fit(x_train, y_train)"
   ]
  },
  {
   "cell_type": "code",
   "execution_count": 48,
   "id": "accepted-mandate",
   "metadata": {},
   "outputs": [
    {
     "name": "stdout",
     "output_type": "stream",
     "text": [
      "              precision    recall  f1-score   support\n",
      "\n",
      "         0.0       0.97      1.00      0.98      9000\n",
      "         1.0       0.98      0.88      0.93      2171\n",
      "\n",
      "    accuracy                           0.97     11171\n",
      "   macro avg       0.98      0.94      0.96     11171\n",
      "weighted avg       0.97      0.97      0.97     11171\n",
      "\n",
      "Recall of Gradient Boosting 98.10%\n",
      "Precision of Gradient Boosting 88.12%\n"
     ]
    }
   ],
   "source": [
    "y_pred = clf.predict(x_test)\n",
    "recall = recall_score(y_pred, y_test) * 100\n",
    "precision = precision_score(y_pred, y_test) * 100\n",
    "print(classification_report(y_test, y_pred))\n",
    "print(\"Recall of Gradient Boosting {:.2f}%\".format(recall))\n",
    "print(\"Precision of Gradient Boosting {:.2f}%\".format(precision))"
   ]
  },
  {
   "cell_type": "code",
   "execution_count": 49,
   "id": "documented-picking",
   "metadata": {},
   "outputs": [
    {
     "data": {
      "text/plain": [
       "0.9735923373019425"
      ]
     },
     "execution_count": 49,
     "metadata": {},
     "output_type": "execute_result"
    }
   ],
   "source": [
    "accuracy_score(y_pred, y_test)"
   ]
  },
  {
   "cell_type": "code",
   "execution_count": null,
   "id": "crazy-start",
   "metadata": {},
   "outputs": [],
   "source": []
  }
 ],
 "metadata": {
  "kernelspec": {
   "display_name": "Python 3",
   "language": "python",
   "name": "python3"
  },
  "language_info": {
   "codemirror_mode": {
    "name": "ipython",
    "version": 3
   },
   "file_extension": ".py",
   "mimetype": "text/x-python",
   "name": "python",
   "nbconvert_exporter": "python",
   "pygments_lexer": "ipython3",
   "version": "3.6.9"
  }
 },
 "nbformat": 4,
 "nbformat_minor": 5
}

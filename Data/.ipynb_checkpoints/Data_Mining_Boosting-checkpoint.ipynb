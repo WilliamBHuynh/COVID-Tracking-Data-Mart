{
 "cells": [
  {
   "cell_type": "markdown",
   "id": "eleven-borough",
   "metadata": {},
   "source": [
    "### Part B: Gradient Boosting\n"
   ]
  },
  {
   "cell_type": "code",
   "execution_count": 4,
   "id": "silent-oakland",
   "metadata": {},
   "outputs": [],
   "source": [
    "from configparser import ConfigParser\n",
    "import pandas as pd\n",
    "import numpy as np\n",
    "import psycopg2\n",
    "import pandas.io.sql as sqlio\n",
    "from sklearn import ensemble\n",
    "from sklearn.model_selection import train_test_split\n",
    "from sklearn.svm import LinearSVC\n",
    "from sklearn.metrics import recall_score, precision_score\n",
    "from collections import Counter"
   ]
  },
  {
   "cell_type": "code",
   "execution_count": 5,
   "id": "split-energy",
   "metadata": {},
   "outputs": [],
   "source": [
    "f = open(r\"../password_sql.txt\", \"r\")\n",
    "password = f.readline()\n",
    "conn = psycopg2.connect(\n",
    "    host = \"www.eecs.uottawa.ca\",\n",
    "    port = 15432,\n",
    "    user = \"whuyn056\",\n",
    "    database = \"group_20\",\n",
    "    password = password\n",
    ")"
   ]
  },
  {
   "cell_type": "code",
   "execution_count": null,
   "id": "mexican-condition",
   "metadata": {},
   "outputs": [],
   "source": []
  }
 ],
 "metadata": {
  "kernelspec": {
   "display_name": "Python 3",
   "language": "python",
   "name": "python3"
  },
  "language_info": {
   "codemirror_mode": {
    "name": "ipython",
    "version": 3
   },
   "file_extension": ".py",
   "mimetype": "text/x-python",
   "name": "python",
   "nbconvert_exporter": "python",
   "pygments_lexer": "ipython3",
   "version": "3.6.9"
  }
 },
 "nbformat": 4,
 "nbformat_minor": 5
}

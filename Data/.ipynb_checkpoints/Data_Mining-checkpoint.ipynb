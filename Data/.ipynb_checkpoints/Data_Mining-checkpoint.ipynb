{
 "cells": [
  {
   "cell_type": "markdown",
   "metadata": {},
   "source": [
    "## Deliverable D - Data Mining"
   ]
  },
  {
   "cell_type": "code",
   "execution_count": 7,
   "metadata": {},
   "outputs": [],
   "source": [
    "import pandas as pd\n",
    "import numpy as np\n",
    "import matplotlib.pyplot as plt\n",
    "import seaborn as sb\n",
    "import math\n",
    "import pandas.io.sql as sqlio"
   ]
  },
  {
   "cell_type": "code",
   "execution_count": 3,
   "metadata": {
    "metadata": {
     "deletable": false,
     "editable": false,
     "trusted": true
    },
    "scrolled": true
   },
   "outputs": [
    {
     "name": "stdout",
     "output_type": "stream",
     "text": [
      "Collecting psycopg2\n",
      "  Using cached psycopg2-2.8.6-cp38-cp38-win_amd64.whl (1.1 MB)\n",
      "Installing collected packages: psycopg2\n",
      "Successfully installed psycopg2-2.8.6\n"
     ]
    }
   ],
   "source": [
    "! pip install psycopg2"
   ]
  },
  {
   "cell_type": "code",
   "execution_count": 4,
   "metadata": {},
   "outputs": [],
   "source": [
    "import psycopg2"
   ]
  },
  {
   "cell_type": "code",
   "execution_count": 6,
   "metadata": {},
   "outputs": [],
   "source": [
    "f = open(r\"C:\\Users\\samet\\Documents\\passwordpy.txt\", \"r\")\n",
    "password = f.readline()\n",
    "conn = psycopg2.connect(\n",
    "    host = \"www.eecs.uottawa.ca\",\n",
    "    port = 15432,\n",
    "    user = \"syilm068\",\n",
    "    database = \"group_20\",\n",
    "    password = password\n",
    ")"
   ]
  },
  {
   "cell_type": "code",
   "execution_count": 9,
   "metadata": {},
   "outputs": [],
   "source": [
    "query_1 = \"SELECT * FROM fact_table\"\n",
    "query_1_tosql = sqlio.read_sql_query(query_1, conn)"
   ]
  },
  {
   "cell_type": "code",
   "execution_count": 10,
   "metadata": {},
   "outputs": [
    {
     "data": {
      "text/html": [
       "<div>\n",
       "<style scoped>\n",
       "    .dataframe tbody tr th:only-of-type {\n",
       "        vertical-align: middle;\n",
       "    }\n",
       "\n",
       "    .dataframe tbody tr th {\n",
       "        vertical-align: top;\n",
       "    }\n",
       "\n",
       "    .dataframe thead th {\n",
       "        text-align: right;\n",
       "    }\n",
       "</style>\n",
       "<table border=\"1\" class=\"dataframe\">\n",
       "  <thead>\n",
       "    <tr style=\"text-align: right;\">\n",
       "      <th></th>\n",
       "      <th>onset_date_key</th>\n",
       "      <th>reported_date_key</th>\n",
       "      <th>test_date_key</th>\n",
       "      <th>specimen_date_key</th>\n",
       "      <th>patient_key</th>\n",
       "      <th>phu_key</th>\n",
       "      <th>mobility_key</th>\n",
       "      <th>special_measures_key</th>\n",
       "      <th>weather_key</th>\n",
       "      <th>resolved</th>\n",
       "      <th>unresolved</th>\n",
       "      <th>fatal</th>\n",
       "    </tr>\n",
       "  </thead>\n",
       "  <tbody>\n",
       "    <tr>\n",
       "      <th>0</th>\n",
       "      <td>0</td>\n",
       "      <td>275</td>\n",
       "      <td>275</td>\n",
       "      <td>106</td>\n",
       "      <td>0</td>\n",
       "      <td>0</td>\n",
       "      <td>181</td>\n",
       "      <td>7</td>\n",
       "      <td>180</td>\n",
       "      <td>1</td>\n",
       "      <td>0</td>\n",
       "      <td>0</td>\n",
       "    </tr>\n",
       "    <tr>\n",
       "      <th>1</th>\n",
       "      <td>12</td>\n",
       "      <td>239</td>\n",
       "      <td>239</td>\n",
       "      <td>12</td>\n",
       "      <td>195</td>\n",
       "      <td>0</td>\n",
       "      <td>145</td>\n",
       "      <td>6</td>\n",
       "      <td>144</td>\n",
       "      <td>1</td>\n",
       "      <td>0</td>\n",
       "      <td>0</td>\n",
       "    </tr>\n",
       "    <tr>\n",
       "      <th>2</th>\n",
       "      <td>25</td>\n",
       "      <td>221</td>\n",
       "      <td>221</td>\n",
       "      <td>219</td>\n",
       "      <td>65</td>\n",
       "      <td>0</td>\n",
       "      <td>127</td>\n",
       "      <td>5</td>\n",
       "      <td>126</td>\n",
       "      <td>1</td>\n",
       "      <td>0</td>\n",
       "      <td>0</td>\n",
       "    </tr>\n",
       "    <tr>\n",
       "      <th>3</th>\n",
       "      <td>40</td>\n",
       "      <td>233</td>\n",
       "      <td>233</td>\n",
       "      <td>83</td>\n",
       "      <td>243</td>\n",
       "      <td>0</td>\n",
       "      <td>139</td>\n",
       "      <td>5</td>\n",
       "      <td>138</td>\n",
       "      <td>1</td>\n",
       "      <td>0</td>\n",
       "      <td>0</td>\n",
       "    </tr>\n",
       "    <tr>\n",
       "      <th>4</th>\n",
       "      <td>128</td>\n",
       "      <td>290</td>\n",
       "      <td>290</td>\n",
       "      <td>288</td>\n",
       "      <td>111</td>\n",
       "      <td>0</td>\n",
       "      <td>196</td>\n",
       "      <td>8</td>\n",
       "      <td>195</td>\n",
       "      <td>1</td>\n",
       "      <td>0</td>\n",
       "      <td>0</td>\n",
       "    </tr>\n",
       "  </tbody>\n",
       "</table>\n",
       "</div>"
      ],
      "text/plain": [
       "   onset_date_key  reported_date_key  test_date_key  specimen_date_key  \\\n",
       "0               0                275            275                106   \n",
       "1              12                239            239                 12   \n",
       "2              25                221            221                219   \n",
       "3              40                233            233                 83   \n",
       "4             128                290            290                288   \n",
       "\n",
       "   patient_key  phu_key  mobility_key  special_measures_key  weather_key  \\\n",
       "0            0        0           181                     7          180   \n",
       "1          195        0           145                     6          144   \n",
       "2           65        0           127                     5          126   \n",
       "3          243        0           139                     5          138   \n",
       "4          111        0           196                     8          195   \n",
       "\n",
       "   resolved  unresolved  fatal  \n",
       "0         1           0      0  \n",
       "1         1           0      0  \n",
       "2         1           0      0  \n",
       "3         1           0      0  \n",
       "4         1           0      0  "
      ]
     },
     "execution_count": 10,
     "metadata": {},
     "output_type": "execute_result"
    }
   ],
   "source": [
    "query_1_tosql.head()"
   ]
  },
  {
   "cell_type": "code",
   "execution_count": null,
   "metadata": {},
   "outputs": [],
   "source": []
  }
 ],
 "metadata": {
  "kernelspec": {
   "display_name": "Python 3",
   "language": "python",
   "name": "python3"
  },
  "language_info": {
   "codemirror_mode": {
    "name": "ipython",
    "version": 3
   },
   "file_extension": ".py",
   "mimetype": "text/x-python",
   "name": "python",
   "nbconvert_exporter": "python",
   "pygments_lexer": "ipython3",
   "version": "3.8.3"
  }
 },
 "nbformat": 4,
 "nbformat_minor": 4
}

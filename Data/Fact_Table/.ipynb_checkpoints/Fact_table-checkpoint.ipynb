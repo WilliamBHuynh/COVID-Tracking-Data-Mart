{
 "cells": [
  {
   "cell_type": "code",
   "execution_count": 1,
   "id": "statewide-blake",
   "metadata": {},
   "outputs": [],
   "source": [
    "import pandas as pd\n",
    "import numpy as np"
   ]
  },
  {
   "cell_type": "markdown",
   "id": "latter-resort",
   "metadata": {},
   "source": [
    "### Load data\n",
    "Load data from all dimensions"
   ]
  },
  {
   "cell_type": "code",
   "execution_count": 8,
   "id": "accepted-wiring",
   "metadata": {},
   "outputs": [],
   "source": [
    "# onset_date_dimension = pd.read_csv(\"\")\n",
    "# reported_date_dimension = pd.read_csv(\"\")\n",
    "# test_date_dimension = pd.read_csv(\"\")\n",
    "# specimen_date_dimension = pd.read_csv(\"\")\n",
    "mobility_dimension = pd.read_csv(\"../Mobility/mobility_dimension.csv\")\n",
    "# patient_dimension = pd.read_csv(\"\")\n",
    "special_measures_dimension = pd.read_csv(\"../Special_Measures/Restrictions.csv\")\n",
    "weather_dimension = pd.read_csv(\"../Weather/weather_dimension.csv\")\n",
    "# phu_dimension = pd.read_csv(\"\")"
   ]
  },
  {
   "cell_type": "code",
   "execution_count": 11,
   "id": "offensive-barrier",
   "metadata": {},
   "outputs": [],
   "source": [
    "fact_table = pd.DataFrame(columns=['Onset_data_key', 'Reported_date_key', 'Test_date_key', 'Specimen_date_key', 'Mobility_key', \n",
    "                                  'Patient_key', 'Special_Measures_key', 'Weather_key', 'PHU_key', 'Resolved', 'Unresolved', 'Fatal'])"
   ]
  },
  {
   "cell_type": "code",
   "execution_count": null,
   "id": "detailed-maria",
   "metadata": {},
   "outputs": [],
   "source": []
  }
 ],
 "metadata": {
  "kernelspec": {
   "display_name": "Python 3",
   "language": "python",
   "name": "python3"
  },
  "language_info": {
   "codemirror_mode": {
    "name": "ipython",
    "version": 3
   },
   "file_extension": ".py",
   "mimetype": "text/x-python",
   "name": "python",
   "nbconvert_exporter": "python",
   "pygments_lexer": "ipython3",
   "version": "3.6.9"
  }
 },
 "nbformat": 4,
 "nbformat_minor": 5
}

{
 "cells": [
  {
   "cell_type": "code",
   "execution_count": 131,
   "id": "intimate-anniversary",
   "metadata": {},
   "outputs": [],
   "source": [
    "import pandas as pd\n",
    "import numpy as np\n",
    "import math\n",
    "from datetime import datetime"
   ]
  },
  {
   "cell_type": "markdown",
   "id": "finnish-barcelona",
   "metadata": {},
   "source": [
    "### Load data\n",
    "Load data from all dimensions"
   ]
  },
  {
   "cell_type": "code",
   "execution_count": 132,
   "id": "moving-trinidad",
   "metadata": {},
   "outputs": [],
   "source": [
    "onset_date_dimension = pd.read_csv(\"../Dates/Onset_Date_dimension.csv\")\n",
    "reported_date_dimension = pd.read_csv(\"../Dates/Reported_Date_dimension.csv\")\n",
    "test_date_dimension = pd.read_csv(\"../Dates/Test_Date_dimension.csv\")\n",
    "specimen_date_dimension = pd.read_csv(\"../Dates/Specimen_Date_dimension.csv\")\n",
    "patient_dimension = pd.read_csv(\"../PHU & Patient dimensions/Patient_dimension.csv\")\n",
    "phu_dimension = pd.read_csv(\"../PHU & Patient dimensions/PHU_dimension.csv\")\n",
    "mobility_dimension = pd.read_csv(\"../Mobility/mobility_dimension.csv\")\n",
    "special_measures_dimension = pd.read_csv(\"../Special_Measures/Restrictions.csv\")\n",
    "weather_dimension = pd.read_csv(\"../Weather/weather_dimension.csv\")"
   ]
  },
  {
   "cell_type": "code",
   "execution_count": 133,
   "id": "hired-austria",
   "metadata": {},
   "outputs": [],
   "source": [
    "# fact_table = pd.DataFrame(columns=['Onset_date_key', 'Reported_date_key', 'Test_date_key', 'Specimen_date_key', 'Patient_key', 'PHU_key',\n",
    "#                                 'Mobility_key', 'Weather_key', 'Special_measures_key', 'Weather_key', 'Resolved', 'Unresolved', 'Fatal'])\n",
    "fact_table = pd.DataFrame(columns=['PHU_key', 'Mobility_key', 'Weather_key','Special_measures_key'])"
   ]
  },
  {
   "cell_type": "markdown",
   "id": "awful-conspiracy",
   "metadata": {},
   "source": [
    "### Rename columns\n",
    "Rename some columns to avoid duplicate keys"
   ]
  },
  {
   "cell_type": "code",
   "execution_count": 134,
   "id": "artistic-peninsula",
   "metadata": {},
   "outputs": [],
   "source": [
    "weather_dimension=weather_dimension.rename(columns={\"surrogate_key\": \"Weather_key\"})\n",
    "special_measures_dimension=special_measures_dimension.rename(columns={\"surrogate_key\": \"Special_measures_key\"})\n",
    "specimen_date_dimension=specimen_date_dimension.rename(columns={\"Date_Full_Format\" : \"Specimen_Date\"})\n",
    "test_date_dimension=test_date_dimension.rename(columns={\"Date_Full_Format\" : \"Test_Date\"})\n",
    "reported_date_dimension=reported_date_dimension.rename(columns={\"Date_Full_Format\" : \"Reported_Date\"})\n",
    "onset_date_dimension=onset_date_dimension.rename(columns={\"Date_Full_Format\" : \"Onset_Date\"})"
   ]
  },
  {
   "cell_type": "markdown",
   "id": "later-bandwidth",
   "metadata": {},
   "source": [
    "### Normalize Location attributes\n",
    "Replace locations with just Ottawa for Toronto. For example, \"Ottawa Division\" is replaced with \"Ottawa\"."
   ]
  },
  {
   "cell_type": "code",
   "execution_count": 135,
   "id": "danish-turner",
   "metadata": {},
   "outputs": [],
   "source": [
    "mobility_dimension[\"Subregion\"]=mobility_dimension[\"Subregion\"].replace([\"Ottawa Division\"], \"Ottawa\")\n",
    "mobility_dimension[\"Subregion\"]=mobility_dimension[\"Subregion\"].replace([\"Toronto Division\"], \"Toronto\")\n",
    "weather_dimension[\"Station Name\"]=weather_dimension[\"Station Name\"].replace([\"OTTAWA INTL A\", \"OTTAWA CDA RCS\"], \"Ottawa\")\n",
    "weather_dimension[\"Station Name\"]=weather_dimension[\"Station Name\"].replace([\"TORONTO CITY\", \"TORONTO INTL A\"], \"Toronto\")"
   ]
  },
  {
   "cell_type": "markdown",
   "id": "approved-rendering",
   "metadata": {},
   "source": [
    "### Surrogate key pipeline\n",
    "Assign surrogate keys to data starting from 0. Skip some dimensions that already did this step during preprocessing."
   ]
  },
  {
   "cell_type": "code",
   "execution_count": 136,
   "id": "preceding-ballot",
   "metadata": {
    "scrolled": true
   },
   "outputs": [],
   "source": [
    "phu_dimension=phu_dimension.drop(columns=[\"PHU_Surrogate_Key\"])\n",
    "phu_dimension.insert(0, \"PHU_Surrogate_Key\",  np.arange(len(phu_dimension)))\n",
    "patient_dimension=patient_dimension.drop(columns=[\"Patient_Surrogate_Key\"])\n",
    "patient_dimension.insert(0, \"Patient_Surrogate_Key\",  np.arange(len(patient_dimension)))\n",
    "specimen_date_dimension=specimen_date_dimension.drop(columns=[\"Specimen_Date_Surrogate_Key\"])\n",
    "specimen_date_dimension.insert(0, \"Specimen_Date_Surrogate_Key\",  np.arange(len(specimen_date_dimension)))\n",
    "test_date_dimension=test_date_dimension.drop(columns=[\"Test_Date_Surrogate_Key\"])\n",
    "test_date_dimension.insert(0, \"Test_Date_Surrogate_Key\",  np.arange(len(test_date_dimension)))\n",
    "reported_date_dimension=reported_date_dimension.drop(columns=[\"Reported_Date_Surrogate_Key\"])\n",
    "reported_date_dimension.insert(0, \"Reported_Date_Surrogate_Key\",  np.arange(len(reported_date_dimension)))\n",
    "onset_date_dimension=onset_date_dimension.drop(columns=[\"Onset_Date_Surrogate_Key\"])\n",
    "onset_date_dimension.insert(0, \"Onset_Date_Surrogate_Key\",  np.arange(len(onset_date_dimension)))"
   ]
  },
  {
   "cell_type": "markdown",
   "id": "aboriginal-responsibility",
   "metadata": {},
   "source": [
    "### Map Patient to Date dimensions\n",
    "Create an intersection of Patient to specimen, test, reported and onset date based on original data set"
   ]
  },
  {
   "cell_type": "code",
   "execution_count": 137,
   "id": "offensive-navigator",
   "metadata": {},
   "outputs": [],
   "source": [
    "# Concat dates together and remove duplicate columns\n",
    "dates_dimensions = [onset_date_dimension, reported_date_dimension, test_date_dimension, specimen_date_dimension]\n",
    "dates_merged = pd.concat(dates_dimensions, axis=1)\n",
    "dates_merged = dates_merged.loc[:,~dates_merged.columns.duplicated()]"
   ]
  },
  {
   "cell_type": "code",
   "execution_count": 138,
   "id": "wireless-alpha",
   "metadata": {},
   "outputs": [],
   "source": [
    "# Drop columns not needed for fact table creation\n",
    "dates_merged=dates_merged.drop(columns=[\"Day\", \"Month\", \"Year\", \"Day_of_Week\", \"Week_of_Year\", \"Weekend\", \"Holiday\", \"Season\",\n",
    "                                       \"Onset_Date_Key\", \"Reported_Date_Key\", \"Test_Date_Key\", \"Specimen_Date_Key\"])"
   ]
  },
  {
   "cell_type": "code",
   "execution_count": null,
   "id": "bronze-korean",
   "metadata": {},
   "outputs": [],
   "source": [
    "# Load original COVID data and merged based on dates\n",
    "covid_data = pd.read_csv(\"covid_data.csv\")\n",
    "# Filter only Ottawa and Toronto and Date\n",
    "filtered_covid_data = pd.DataFrame(columns=[\"Index\", \"Accurate_Episode_Date\", \"Case_Reported_Date\", \"Test_Reported_Date\", \"Specimen_Date\",\n",
    "                                           \"Age_Group\", \"Client_Gender\", \"Case_AcquisitionInfo\", \"Outbreak_Related\", \"Reporting_PHU\"])\n",
    "for idx, row in covid_data.iterrows():\n",
    "    city = row[\"Reporting_PHU\"]\n",
    "    startDate =  datetime.strptime(\"2020-10-27\", \"%Y-%m-%d\")\n",
    "    endDate = datetime.strptime(\"2021-02-27\", \"%Y-%m-%d\")\n",
    "    date=datetime.strptime(row[\"Case_Reported_Date\"], \"%Y-%m-%d\")\n",
    "    if not (city != city):\n",
    "        if (\"ottawa\" in city.lower()) or (\"toronto\" in city.lower()):\n",
    "            if startDate <= date <= endDate:\n",
    "                filtered_covid_row = [idx]\n",
    "                filtered_covid_row.append(row[\"Accurate_Episode_Date\"])\n",
    "                filtered_covid_row.append(row[\"Case_Reported_Date\"])\n",
    "                filtered_covid_row.append(row[\"Test_Reported_Date\"])\n",
    "                filtered_covid_row.append(row[\"Specimen_Date\"])\n",
    "                filtered_covid_row.append(row[\"Age_Group\"])\n",
    "                filtered_covid_row.append(row[\"Client_Gender\"])\n",
    "                filtered_covid_row.append(row[\"Case_AcquisitionInfo\"])\n",
    "                filtered_covid_row.append(row[\"Outbreak_Related\"])\n",
    "                filtered_covid_row.append(row[\"Reporting_PHU\"])\n",
    "                filtered_covid_data.loc[len(filtered_covid_data)] = filtered_covid_row\n",
    "\n",
    "covid_data_merge_dates = pd.merge(covid_data, dates_merged, \n",
    "                           left_on=[\"Accurate_Episode_Date\", \"Case_Reported_Date\", \"Test_Reported_Date\", \"Specimen_Date\"], \n",
    "                           right_on=[\"Onset_Date\", \"Reported_Date\", \"Test_Date\", \"Specimen_Date\"], \n",
    "                           how=\"inner\")\n",
    "len(covid_data_merge_dates)"
   ]
  },
  {
   "cell_type": "code",
   "execution_count": 140,
   "id": "adjusted-directive",
   "metadata": {},
   "outputs": [],
   "source": [
    "# Join COVID data and patient dimension \n",
    "covid_data_final = pd.merge(covid_data_merge_dates, patient_dimension, \n",
    "                           left_on=[\"Age_Group\", \"Client_Gender\", \"Case_AcquisitionInfo\", \"Outbreak_Related\"], \n",
    "                           right_on=[\"Age\", \"Gender\", \"Acquisition_Group\", \"Outbreak_Related\"], \n",
    "                           how=\"inner\")"
   ]
  },
  {
   "cell_type": "markdown",
   "id": "separated-hormone",
   "metadata": {},
   "source": [
    "### Map PHU, Mobility, Special Measures and Weather\n",
    "Make intersection between these dimensions to map based on date and location."
   ]
  },
  {
   "cell_type": "code",
   "execution_count": 141,
   "id": "minor-smooth",
   "metadata": {},
   "outputs": [],
   "source": [
    "# Map mobility and weather \n",
    "fact_table_data = pd.merge(mobility_dimension, weather_dimension, \n",
    "                           left_on=[\"Date\", \"Subregion\"], \n",
    "                           right_on=[\"Date/Time\", \"Station Name\"], \n",
    "                           how=\"inner\")"
   ]
  },
  {
   "cell_type": "code",
   "execution_count": 142,
   "id": "verified-empire",
   "metadata": {},
   "outputs": [],
   "source": [
    "# Create new columns for surrogate keys\n",
    "fact_table_data[\"Special_measures_key\"] = \"\"\n",
    "fact_table_data[\"PHU_key\"] = \"\"\n",
    "# Map dimensions to fact table by location and/or date range\n",
    "for idx, row in fact_table_data.iterrows():\n",
    "    if row[\"Station Name\"]==\"Ottawa\":\n",
    "        fact_table_data.at[idx, 'PHU_key']=1\n",
    "        for idx_sm, row_sm in special_measures_dimension.head(5).iterrows():\n",
    "            special_measures_key=row_sm[\"Special_measures_key\"]\n",
    "            start_date=datetime.strptime(row_sm[\"start_date\"], \"%Y-%m-%d\")\n",
    "            end_date=datetime.strptime(row_sm[\"end_date\"], \"%Y-%m-%d\")\n",
    "            date=datetime.strptime(row[\"Date\"], \"%Y-%m-%d\")\n",
    "            if (start_date <= date < end_date):\n",
    "                fact_table_data.at[idx, 'Special_measures_key']=special_measures_key\n",
    "    if row[\"Station Name\"]==\"Toronto\":\n",
    "        fact_table_data.at[idx, 'PHU_key']=0\n",
    "        for idx_sm, row_sm in special_measures_dimension.tail(6).iterrows():\n",
    "            special_measures_key=row_sm[\"Special_measures_key\"]\n",
    "            start_date=datetime.strptime(row_sm[\"start_date\"], \"%Y-%m-%d\")\n",
    "            end_date=datetime.strptime(row_sm[\"end_date\"], \"%Y-%m-%d\")\n",
    "            date=datetime.strptime(row[\"Date\"], \"%Y-%m-%d\")\n",
    "            if (start_date <= date < end_date):\n",
    "                fact_table_data.at[idx, 'Special_measures_key']=special_measures_key"
   ]
  },
  {
   "cell_type": "code",
   "execution_count": 143,
   "id": "critical-figure",
   "metadata": {},
   "outputs": [],
   "source": [
    "# Drop columns not needed for fact table creation\n",
    "fact_table_data=fact_table_data.drop(columns=[\"Province\", \"Grocery_and_phramacy\", \"Parks\", \"Transit_stations\", \"Workplaces\", \"Residential\", \n",
    "                              \"Retail_and_recreation\", \"Mean Temp (°C)\", \"Min Temp (°C)\", \"Max Temp (°C)\", \"Total Precip (mm)\",\n",
    "                                              \"Station Name\", \"Date/Time\"])"
   ]
  },
  {
   "cell_type": "markdown",
   "id": "upset-selection",
   "metadata": {},
   "source": [
    "### Map COVID Data to Fact Table Data\n",
    "Map datasets based on Reported date and city"
   ]
  },
  {
   "cell_type": "code",
   "execution_count": 150,
   "id": "fabulous-tampa",
   "metadata": {},
   "outputs": [
    {
     "data": {
      "text/plain": [
       "0                             Peel Public Health\n",
       "1                             Peel Public Health\n",
       "2                          Toronto Public Health\n",
       "3                          Toronto Public Health\n",
       "4                          Toronto Public Health\n",
       "                          ...                   \n",
       "3243          York Region Public Health Services\n",
       "3244                Middlesex-London Health Unit\n",
       "3245                       Toronto Public Health\n",
       "3246                       Toronto Public Health\n",
       "3247    Wellington-Dufferin-Guelph Public Health\n",
       "Name: Reporting_PHU, Length: 3248, dtype: object"
      ]
     },
     "execution_count": 150,
     "metadata": {},
     "output_type": "execute_result"
    }
   ],
   "source": [
    "# Create new columns for surrogate keys\n",
    "fact_table_data[\"Onset_Date_Key\"] = \"\"\n",
    "fact_table_data[\"Reported_Date_Key\"] = \"\"\n",
    "fact_table_data[\"Test_Date_Key\"] = \"\"\n",
    "fact_table_data[\"Specimen_Date_Key\"] = \"\"\n",
    "fact_table_data[\"Patient_Key\"] = \"\""
   ]
  },
  {
   "cell_type": "code",
   "execution_count": 144,
   "id": "fixed-huntington",
   "metadata": {},
   "outputs": [],
   "source": [
    "# Map fact table data to fact table rows\n",
    "for idx, row in fact_table_data.iterrows():\n",
    "    fact_row=[row[\"PHU_key\"], row[\"Mobility_key\"], row[\"Weather_key\"], row[\"Special_measures_key\"]]\n",
    "    fact_table.loc[len(fact_table)] = fact_row"
   ]
  },
  {
   "cell_type": "code",
   "execution_count": 145,
   "id": "intellectual-agenda",
   "metadata": {},
   "outputs": [],
   "source": [
    "fact_table.to_csv(\"fact_table.csv\", index=False)"
   ]
  },
  {
   "cell_type": "code",
   "execution_count": 146,
   "id": "dated-pharmaceutical",
   "metadata": {},
   "outputs": [
    {
     "data": {
      "text/html": [
       "<div>\n",
       "<style scoped>\n",
       "    .dataframe tbody tr th:only-of-type {\n",
       "        vertical-align: middle;\n",
       "    }\n",
       "\n",
       "    .dataframe tbody tr th {\n",
       "        vertical-align: top;\n",
       "    }\n",
       "\n",
       "    .dataframe thead th {\n",
       "        text-align: right;\n",
       "    }\n",
       "</style>\n",
       "<table border=\"1\" class=\"dataframe\">\n",
       "  <thead>\n",
       "    <tr style=\"text-align: right;\">\n",
       "      <th></th>\n",
       "      <th>Mobility_key</th>\n",
       "      <th>Date</th>\n",
       "      <th>Subregion</th>\n",
       "      <th>Weather_key</th>\n",
       "      <th>Special_measures_key</th>\n",
       "      <th>PHU_key</th>\n",
       "    </tr>\n",
       "  </thead>\n",
       "  <tbody>\n",
       "    <tr>\n",
       "      <th>0</th>\n",
       "      <td>0</td>\n",
       "      <td>2020-10-27</td>\n",
       "      <td>Ottawa</td>\n",
       "      <td>0</td>\n",
       "      <td>0</td>\n",
       "      <td>1</td>\n",
       "    </tr>\n",
       "    <tr>\n",
       "      <th>1</th>\n",
       "      <td>1</td>\n",
       "      <td>2020-10-28</td>\n",
       "      <td>Ottawa</td>\n",
       "      <td>1</td>\n",
       "      <td>0</td>\n",
       "      <td>1</td>\n",
       "    </tr>\n",
       "    <tr>\n",
       "      <th>2</th>\n",
       "      <td>2</td>\n",
       "      <td>2020-10-29</td>\n",
       "      <td>Ottawa</td>\n",
       "      <td>2</td>\n",
       "      <td>0</td>\n",
       "      <td>1</td>\n",
       "    </tr>\n",
       "    <tr>\n",
       "      <th>3</th>\n",
       "      <td>3</td>\n",
       "      <td>2020-10-30</td>\n",
       "      <td>Ottawa</td>\n",
       "      <td>3</td>\n",
       "      <td>0</td>\n",
       "      <td>1</td>\n",
       "    </tr>\n",
       "    <tr>\n",
       "      <th>4</th>\n",
       "      <td>4</td>\n",
       "      <td>2020-10-31</td>\n",
       "      <td>Ottawa</td>\n",
       "      <td>4</td>\n",
       "      <td>0</td>\n",
       "      <td>1</td>\n",
       "    </tr>\n",
       "    <tr>\n",
       "      <th>...</th>\n",
       "      <td>...</td>\n",
       "      <td>...</td>\n",
       "      <td>...</td>\n",
       "      <td>...</td>\n",
       "      <td>...</td>\n",
       "      <td>...</td>\n",
       "    </tr>\n",
       "    <tr>\n",
       "      <th>241</th>\n",
       "      <td>242</td>\n",
       "      <td>2021-02-22</td>\n",
       "      <td>Toronto</td>\n",
       "      <td>241</td>\n",
       "      <td>10</td>\n",
       "      <td>0</td>\n",
       "    </tr>\n",
       "    <tr>\n",
       "      <th>242</th>\n",
       "      <td>243</td>\n",
       "      <td>2021-02-23</td>\n",
       "      <td>Toronto</td>\n",
       "      <td>242</td>\n",
       "      <td>10</td>\n",
       "      <td>0</td>\n",
       "    </tr>\n",
       "    <tr>\n",
       "      <th>243</th>\n",
       "      <td>244</td>\n",
       "      <td>2021-02-24</td>\n",
       "      <td>Toronto</td>\n",
       "      <td>243</td>\n",
       "      <td>10</td>\n",
       "      <td>0</td>\n",
       "    </tr>\n",
       "    <tr>\n",
       "      <th>244</th>\n",
       "      <td>245</td>\n",
       "      <td>2021-02-25</td>\n",
       "      <td>Toronto</td>\n",
       "      <td>244</td>\n",
       "      <td>10</td>\n",
       "      <td>0</td>\n",
       "    </tr>\n",
       "    <tr>\n",
       "      <th>245</th>\n",
       "      <td>246</td>\n",
       "      <td>2021-02-26</td>\n",
       "      <td>Toronto</td>\n",
       "      <td>245</td>\n",
       "      <td>10</td>\n",
       "      <td>0</td>\n",
       "    </tr>\n",
       "  </tbody>\n",
       "</table>\n",
       "<p>246 rows × 6 columns</p>\n",
       "</div>"
      ],
      "text/plain": [
       "     Mobility_key        Date Subregion  Weather_key Special_measures_key  \\\n",
       "0               0  2020-10-27    Ottawa            0                    0   \n",
       "1               1  2020-10-28    Ottawa            1                    0   \n",
       "2               2  2020-10-29    Ottawa            2                    0   \n",
       "3               3  2020-10-30    Ottawa            3                    0   \n",
       "4               4  2020-10-31    Ottawa            4                    0   \n",
       "..            ...         ...       ...          ...                  ...   \n",
       "241           242  2021-02-22   Toronto          241                   10   \n",
       "242           243  2021-02-23   Toronto          242                   10   \n",
       "243           244  2021-02-24   Toronto          243                   10   \n",
       "244           245  2021-02-25   Toronto          244                   10   \n",
       "245           246  2021-02-26   Toronto          245                   10   \n",
       "\n",
       "    PHU_key  \n",
       "0         1  \n",
       "1         1  \n",
       "2         1  \n",
       "3         1  \n",
       "4         1  \n",
       "..      ...  \n",
       "241       0  \n",
       "242       0  \n",
       "243       0  \n",
       "244       0  \n",
       "245       0  \n",
       "\n",
       "[246 rows x 6 columns]"
      ]
     },
     "execution_count": 146,
     "metadata": {},
     "output_type": "execute_result"
    }
   ],
   "source": [
    "fact_table_data"
   ]
  },
  {
   "cell_type": "code",
   "execution_count": null,
   "id": "treated-munich",
   "metadata": {},
   "outputs": [],
   "source": []
  }
 ],
 "metadata": {
  "kernelspec": {
   "display_name": "Python 3",
   "language": "python",
   "name": "python3"
  },
  "language_info": {
   "codemirror_mode": {
    "name": "ipython",
    "version": 3
   },
   "file_extension": ".py",
   "mimetype": "text/x-python",
   "name": "python",
   "nbconvert_exporter": "python",
   "pygments_lexer": "ipython3",
   "version": "3.6.9"
  }
 },
 "nbformat": 4,
 "nbformat_minor": 5
}

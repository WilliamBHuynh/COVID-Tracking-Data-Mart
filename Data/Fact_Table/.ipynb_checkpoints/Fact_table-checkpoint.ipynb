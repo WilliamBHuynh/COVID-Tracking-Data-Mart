{
 "cells": [
  {
   "cell_type": "code",
   "execution_count": 317,
   "id": "intimate-anniversary",
   "metadata": {},
   "outputs": [],
   "source": [
    "import pandas as pd\n",
    "import numpy as np\n",
    "import math\n",
    "from datetime import datetime"
   ]
  },
  {
   "cell_type": "markdown",
   "id": "finnish-barcelona",
   "metadata": {},
   "source": [
    "### Load data\n",
    "Load data from all dimensions"
   ]
  },
  {
   "cell_type": "code",
   "execution_count": 318,
   "id": "moving-trinidad",
   "metadata": {},
   "outputs": [],
   "source": [
    "# onset_date_dimension = pd.read_csv(\"\")\n",
    "# reported_date_dimension = pd.read_csv(\"\")\n",
    "# test_date_dimension = pd.read_csv(\"\")\n",
    "# specimen_date_dimension = pd.read_csv(\"\")\n",
    "# patient_dimension = pd.read_csv(\"\")\n",
    "# phu_dimension = pd.read_csv(\"\")\n",
    "mobility_dimension = pd.read_csv(\"../Mobility/mobility_dimension.csv\")\n",
    "special_measures_dimension = pd.read_csv(\"../Special_Measures/Restrictions.csv\")\n",
    "weather_dimension = pd.read_csv(\"../Weather/weather_dimension.csv\")"
   ]
  },
  {
   "cell_type": "code",
   "execution_count": 319,
   "id": "hired-austria",
   "metadata": {},
   "outputs": [],
   "source": [
    "# fact_table = pd.DataFrame(columns=['Onset_date_key', 'Reported_date_key', 'Test_date_key', 'Specimen_date_key', 'Patient_key', 'PHU_key',\n",
    "#                                 'Mobility_key', 'Weather_key', 'Special_measures_key', 'Weather_key', 'Resolved', 'Unresolved', 'Fatal'])\n",
    "fact_table = pd.DataFrame(columns=['Mobility_key', 'Weather_key','Special_measures_key'])"
   ]
  },
  {
   "cell_type": "markdown",
   "id": "compressed-friendship",
   "metadata": {},
   "source": [
    "### Rename columns\n",
    "Rename some columns to avoid duplicate keys"
   ]
  },
  {
   "cell_type": "code",
   "execution_count": 320,
   "id": "julian-banana",
   "metadata": {},
   "outputs": [],
   "source": [
    "weather_dimension=weather_dimension.rename(columns={\"surrogate_key\": \"Weather_key\"})\n",
    "special_measures_dimension=special_measures_dimension.rename(columns={\"surrogate_key\": \"Special_measures_key\"})"
   ]
  },
  {
   "cell_type": "markdown",
   "id": "sound-mouse",
   "metadata": {},
   "source": [
    "### Normalize Location attributes\n",
    "Replace locations with just Ottawa for Toronto. For example, \"Ottawa Division\" is replaced with \"Ottawa\"."
   ]
  },
  {
   "cell_type": "code",
   "execution_count": 312,
   "id": "broad-canal",
   "metadata": {},
   "outputs": [],
   "source": [
    "mobility_dimension[\"Subregion\"]=mobility_dimension[\"Subregion\"].replace([\"Ottawa Division\"], \"Ottawa\")\n",
    "mobility_dimension[\"Subregion\"]=mobility_dimension[\"Subregion\"].replace([\"Toronto Division\"], \"Toronto\")\n",
    "weather_dimension[\"Station Name\"]=weather_dimension[\"Station Name\"].replace([\"OTTAWA INTL A\", \"OTTAWA CDA RCS\"], \"Ottawa\")\n",
    "weather_dimension[\"Station Name\"]=weather_dimension[\"Station Name\"].replace([\"TORONTO CITY\", \"TORONTO INTL A\"], \"Toronto\")"
   ]
  },
  {
   "cell_type": "markdown",
   "id": "separated-hormone",
   "metadata": {},
   "source": [
    "### Map PHU, Mobility, Special Measures and Weather\n",
    "Make intersection between these dimensions to map based on date and location."
   ]
  },
  {
   "cell_type": "code",
   "execution_count": 313,
   "id": "gentle-pencil",
   "metadata": {},
   "outputs": [],
   "source": [
    "# Map mobility and weather \n",
    "mobility_weather = pd.merge(mobility_dimension, weather_dimension, left_on=[\"Date\", \"Subregion\"], right_on=[\"Date/Time\", \"Station Name\"], how=\"inner\")\n",
    "\n",
    "# Map mobility and weather to special measures by location and date range\n",
    "mobility_weather[\"Special_measures_key\"] = \"\"\n",
    "for idx, row in mobility_weather.iterrows():\n",
    "    if row[\"Station Name\"]==\"Ottawa\":\n",
    "        for idx_sm, row_sm in special_measures_dimension.head(5).iterrows():\n",
    "            special_measures_key=row_sm[\"Special_measures_key\"]\n",
    "            start_date=datetime.strptime(row_sm[\"start_date\"], \"%Y-%m-%d\")\n",
    "            end_date=datetime.strptime(row_sm[\"end_date\"], \"%Y-%m-%d\")\n",
    "            date=datetime.strptime(row[\"Date\"], \"%Y-%m-%d\")\n",
    "            if (start_date <= date < end_date):\n",
    "                mobility_weather.at[idx, 'Special_measures_key']=special_measures_key\n",
    "    if row[\"Station Name\"]==\"Toronto\":\n",
    "        for idx_sm, row_sm in special_measures_dimension.tail(6).iterrows():\n",
    "            special_measures_key=row_sm[\"Special_measures_key\"]\n",
    "            start_date=datetime.strptime(row_sm[\"start_date\"], \"%Y-%m-%d\")\n",
    "            end_date=datetime.strptime(row_sm[\"end_date\"], \"%Y-%m-%d\")\n",
    "            date=datetime.strptime(row[\"Date\"], \"%Y-%m-%d\")\n",
    "            if (start_date <= date < end_date):\n",
    "                mobility_weather.at[idx, 'Special_measures_key']=special_measures_key"
   ]
  },
  {
   "cell_type": "code",
   "execution_count": 314,
   "id": "anticipated-cache",
   "metadata": {},
   "outputs": [],
   "source": [
    "for idx, row in mobility_weather.iterrows():\n",
    "    fact_row=[row[\"Mobility_key\"], row[\"Weather_key\"], row[\"Special_measures_key\"]]\n",
    "    fact_table.loc[len(fact_table)] = fact_row"
   ]
  },
  {
   "cell_type": "code",
   "execution_count": 316,
   "id": "comprehensive-voltage",
   "metadata": {},
   "outputs": [],
   "source": [
    "fact_table.to_csv(\"fact_table.csv\", index=False)"
   ]
  },
  {
   "cell_type": "code",
   "execution_count": null,
   "id": "freelance-impression",
   "metadata": {},
   "outputs": [],
   "source": []
  }
 ],
 "metadata": {
  "kernelspec": {
   "display_name": "Python 3",
   "language": "python",
   "name": "python3"
  },
  "language_info": {
   "codemirror_mode": {
    "name": "ipython",
    "version": 3
   },
   "file_extension": ".py",
   "mimetype": "text/x-python",
   "name": "python",
   "nbconvert_exporter": "python",
   "pygments_lexer": "ipython3",
   "version": "3.6.9"
  }
 },
 "nbformat": 4,
 "nbformat_minor": 5
}

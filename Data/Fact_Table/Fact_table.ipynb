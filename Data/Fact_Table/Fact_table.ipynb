{
 "cells": [
  {
   "cell_type": "code",
   "execution_count": 123,
   "id": "intimate-anniversary",
   "metadata": {},
   "outputs": [],
   "source": [
    "import pandas as pd\n",
    "import numpy as np"
   ]
  },
  {
   "cell_type": "markdown",
   "id": "finnish-barcelona",
   "metadata": {},
   "source": [
    "### Load data\n",
    "Load data from all dimensions"
   ]
  },
  {
   "cell_type": "code",
   "execution_count": 124,
   "id": "moving-trinidad",
   "metadata": {},
   "outputs": [],
   "source": [
    "# onset_date_dimension = pd.read_csv(\"\")\n",
    "# reported_date_dimension = pd.read_csv(\"\")\n",
    "# test_date_dimension = pd.read_csv(\"\")\n",
    "# specimen_date_dimension = pd.read_csv(\"\")\n",
    "# patient_dimension = pd.read_csv(\"\")\n",
    "# phu_dimension = pd.read_csv(\"\")\n",
    "mobility_dimension = pd.read_csv(\"../Mobility/mobility_dimension.csv\")\n",
    "special_measures_dimension = pd.read_csv(\"../Special_Measures/Restrictions.csv\")\n",
    "weather_dimension = pd.read_csv(\"../Weather/weather_dimension.csv\")"
   ]
  },
  {
   "cell_type": "code",
   "execution_count": 125,
   "id": "hired-austria",
   "metadata": {},
   "outputs": [],
   "source": [
    "# fact_table = pd.DataFrame(columns=['Onset_date_key', 'Reported_date_key', 'Test_date_key', 'Specimen_date_key', 'Patient_key', 'PHU_key',\n",
    "#                                 'Mobility_key', 'Weather_key', 'Special_measures_key', 'Weather_key', 'Resolved', 'Unresolved', 'Fatal'])\n",
    "fact_table = pd.DataFrame(columns=['Mobility_key', 'Weather_key'])"
   ]
  },
  {
   "cell_type": "markdown",
   "id": "associate-calculator",
   "metadata": {},
   "source": [
    "### Rename columns\n",
    "Rename some columns to avoid duplicate keys"
   ]
  },
  {
   "cell_type": "code",
   "execution_count": 126,
   "id": "registered-memorial",
   "metadata": {},
   "outputs": [],
   "source": [
    "weather_dimension=weather_dimension.rename(columns={\"surrogate_key\": \"Weather_key\"})"
   ]
  },
  {
   "cell_type": "markdown",
   "id": "worst-destruction",
   "metadata": {},
   "source": [
    "### Normalize Location attributes\n",
    "Replace locations with just Ottawa for Toronto. For example, \"Ottawa Division\" is replaced with \"Ottawa\"."
   ]
  },
  {
   "cell_type": "code",
   "execution_count": 127,
   "id": "unnecessary-eclipse",
   "metadata": {},
   "outputs": [],
   "source": [
    "mobility_dimension[\"Subregion\"]=mobility_dimension[\"Subregion\"].replace([\"Ottawa Division\"], \"Ottawa\")\n",
    "mobility_dimension[\"Subregion\"]=mobility_dimension[\"Subregion\"].replace([\"Toronto Division\"], \"Toronto\")\n",
    "weather_dimension[\"Station Name\"]=weather_dimension[\"Station Name\"].replace([\"OTTAWA INTL A\", \"OTTAWA CDA RCS\"], \"Ottawa\")\n",
    "weather_dimension[\"Station Name\"]=weather_dimension[\"Station Name\"].replace([\"TORONTO CITY\", \"TORONTO INTL A\"], \"Toronto\")"
   ]
  },
  {
   "cell_type": "markdown",
   "id": "separated-hormone",
   "metadata": {},
   "source": [
    "### Map PHU, Mobility and Weather\n",
    "Make intersection between these dimensions to map based on date and location."
   ]
  },
  {
   "cell_type": "code",
   "execution_count": 128,
   "id": "confirmed-rebate",
   "metadata": {},
   "outputs": [],
   "source": [
    "mobility_weather = pd.merge(mobility_dimension, weather_dimension, left_on=[\"Date\", \"Subregion\"], right_on=[\"Date/Time\", \"Station Name\"], how=\"inner\")"
   ]
  },
  {
   "cell_type": "code",
   "execution_count": 130,
   "id": "shared-satellite",
   "metadata": {},
   "outputs": [],
   "source": [
    "for idx, row in mobility_weather.iterrows():\n",
    "    fact_row=[row[\"Mobility_key\"], row[\"Weather_key\"]]\n",
    "    fact_table.loc[len(fact_table)] = fact_row"
   ]
  },
  {
   "cell_type": "code",
   "execution_count": 131,
   "id": "opponent-laugh",
   "metadata": {},
   "outputs": [
    {
     "data": {
      "text/html": [
       "<div>\n",
       "<style scoped>\n",
       "    .dataframe tbody tr th:only-of-type {\n",
       "        vertical-align: middle;\n",
       "    }\n",
       "\n",
       "    .dataframe tbody tr th {\n",
       "        vertical-align: top;\n",
       "    }\n",
       "\n",
       "    .dataframe thead th {\n",
       "        text-align: right;\n",
       "    }\n",
       "</style>\n",
       "<table border=\"1\" class=\"dataframe\">\n",
       "  <thead>\n",
       "    <tr style=\"text-align: right;\">\n",
       "      <th></th>\n",
       "      <th>Mobility_key</th>\n",
       "      <th>Weather_key</th>\n",
       "    </tr>\n",
       "  </thead>\n",
       "  <tbody>\n",
       "    <tr>\n",
       "      <th>0</th>\n",
       "      <td>0</td>\n",
       "      <td>0</td>\n",
       "    </tr>\n",
       "    <tr>\n",
       "      <th>1</th>\n",
       "      <td>1</td>\n",
       "      <td>1</td>\n",
       "    </tr>\n",
       "    <tr>\n",
       "      <th>2</th>\n",
       "      <td>2</td>\n",
       "      <td>2</td>\n",
       "    </tr>\n",
       "    <tr>\n",
       "      <th>3</th>\n",
       "      <td>3</td>\n",
       "      <td>3</td>\n",
       "    </tr>\n",
       "    <tr>\n",
       "      <th>4</th>\n",
       "      <td>4</td>\n",
       "      <td>4</td>\n",
       "    </tr>\n",
       "    <tr>\n",
       "      <th>...</th>\n",
       "      <td>...</td>\n",
       "      <td>...</td>\n",
       "    </tr>\n",
       "    <tr>\n",
       "      <th>241</th>\n",
       "      <td>242</td>\n",
       "      <td>241</td>\n",
       "    </tr>\n",
       "    <tr>\n",
       "      <th>242</th>\n",
       "      <td>243</td>\n",
       "      <td>242</td>\n",
       "    </tr>\n",
       "    <tr>\n",
       "      <th>243</th>\n",
       "      <td>244</td>\n",
       "      <td>243</td>\n",
       "    </tr>\n",
       "    <tr>\n",
       "      <th>244</th>\n",
       "      <td>245</td>\n",
       "      <td>244</td>\n",
       "    </tr>\n",
       "    <tr>\n",
       "      <th>245</th>\n",
       "      <td>246</td>\n",
       "      <td>245</td>\n",
       "    </tr>\n",
       "  </tbody>\n",
       "</table>\n",
       "<p>246 rows × 2 columns</p>\n",
       "</div>"
      ],
      "text/plain": [
       "    Mobility_key Weather_key\n",
       "0              0           0\n",
       "1              1           1\n",
       "2              2           2\n",
       "3              3           3\n",
       "4              4           4\n",
       "..           ...         ...\n",
       "241          242         241\n",
       "242          243         242\n",
       "243          244         243\n",
       "244          245         244\n",
       "245          246         245\n",
       "\n",
       "[246 rows x 2 columns]"
      ]
     },
     "execution_count": 131,
     "metadata": {},
     "output_type": "execute_result"
    }
   ],
   "source": [
    "fact_table"
   ]
  },
  {
   "cell_type": "code",
   "execution_count": null,
   "id": "applicable-galaxy",
   "metadata": {},
   "outputs": [],
   "source": []
  }
 ],
 "metadata": {
  "kernelspec": {
   "display_name": "Python 3",
   "language": "python",
   "name": "python3"
  },
  "language_info": {
   "codemirror_mode": {
    "name": "ipython",
    "version": 3
   },
   "file_extension": ".py",
   "mimetype": "text/x-python",
   "name": "python",
   "nbconvert_exporter": "python",
   "pygments_lexer": "ipython3",
   "version": "3.6.9"
  }
 },
 "nbformat": 4,
 "nbformat_minor": 5
}

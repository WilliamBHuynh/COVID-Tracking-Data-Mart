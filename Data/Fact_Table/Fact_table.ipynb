{
 "cells": [
  {
   "cell_type": "code",
   "execution_count": 362,
   "id": "intimate-anniversary",
   "metadata": {},
   "outputs": [],
   "source": [
    "import pandas as pd\n",
    "import numpy as np\n",
    "import math\n",
    "from datetime import datetime"
   ]
  },
  {
   "cell_type": "markdown",
   "id": "finnish-barcelona",
   "metadata": {},
   "source": [
    "### Load data\n",
    "Load data from all dimensions"
   ]
  },
  {
   "cell_type": "code",
   "execution_count": 363,
   "id": "moving-trinidad",
   "metadata": {},
   "outputs": [],
   "source": [
    "# onset_date_dimension = pd.read_csv(\"\")\n",
    "# reported_date_dimension = pd.read_csv(\"\")\n",
    "# test_date_dimension = pd.read_csv(\"\")\n",
    "# specimen_date_dimension = pd.read_csv(\"\")\n",
    "# patient_dimension = pd.read_csv(\"\")\n",
    "# phu_dimension = pd.read_csv(\"\")\n",
    "mobility_dimension = pd.read_csv(\"../Mobility/mobility_dimension.csv\")\n",
    "special_measures_dimension = pd.read_csv(\"../Special_Measures/Restrictions.csv\")\n",
    "weather_dimension = pd.read_csv(\"../Weather/weather_dimension.csv\")"
   ]
  },
  {
   "cell_type": "code",
   "execution_count": 364,
   "id": "hired-austria",
   "metadata": {},
   "outputs": [],
   "source": [
    "# fact_table = pd.DataFrame(columns=['Onset_date_key', 'Reported_date_key', 'Test_date_key', 'Specimen_date_key', 'Patient_key', 'PHU_key',\n",
    "#                                 'Mobility_key', 'Weather_key', 'Special_measures_key', 'Weather_key', 'Resolved', 'Unresolved', 'Fatal'])\n",
    "fact_table = pd.DataFrame(columns=['Mobility_key', 'Weather_key','Special_measures_key'])"
   ]
  },
  {
   "cell_type": "markdown",
   "id": "awful-conspiracy",
   "metadata": {},
   "source": [
    "### Rename columns\n",
    "Rename some columns to avoid duplicate keys"
   ]
  },
  {
   "cell_type": "code",
   "execution_count": 365,
   "id": "artistic-peninsula",
   "metadata": {},
   "outputs": [],
   "source": [
    "weather_dimension=weather_dimension.rename(columns={\"surrogate_key\": \"Weather_key\"})\n",
    "special_measures_dimension=special_measures_dimension.rename(columns={\"surrogate_key\": \"Special_measures_key\"})"
   ]
  },
  {
   "cell_type": "markdown",
   "id": "later-bandwidth",
   "metadata": {},
   "source": [
    "### Normalize Location attributes\n",
    "Replace locations with just Ottawa for Toronto. For example, \"Ottawa Division\" is replaced with \"Ottawa\"."
   ]
  },
  {
   "cell_type": "code",
   "execution_count": 366,
   "id": "danish-turner",
   "metadata": {},
   "outputs": [],
   "source": [
    "mobility_dimension[\"Subregion\"]=mobility_dimension[\"Subregion\"].replace([\"Ottawa Division\"], \"Ottawa\")\n",
    "mobility_dimension[\"Subregion\"]=mobility_dimension[\"Subregion\"].replace([\"Toronto Division\"], \"Toronto\")\n",
    "weather_dimension[\"Station Name\"]=weather_dimension[\"Station Name\"].replace([\"OTTAWA INTL A\", \"OTTAWA CDA RCS\"], \"Ottawa\")\n",
    "weather_dimension[\"Station Name\"]=weather_dimension[\"Station Name\"].replace([\"TORONTO CITY\", \"TORONTO INTL A\"], \"Toronto\")"
   ]
  },
  {
   "cell_type": "markdown",
   "id": "separated-hormone",
   "metadata": {},
   "source": [
    "### Map PHU, Mobility, Special Measures and Weather\n",
    "Make intersection between these dimensions to map based on date and location."
   ]
  },
  {
   "cell_type": "code",
   "execution_count": 367,
   "id": "minor-smooth",
   "metadata": {},
   "outputs": [],
   "source": [
    "# Map mobility and weather \n",
    "fact_table_data = pd.merge(mobility_dimension, weather_dimension, left_on=[\"Date\", \"Subregion\"], right_on=[\"Date/Time\", \"Station Name\"], how=\"inner\")"
   ]
  },
  {
   "cell_type": "code",
   "execution_count": 368,
   "id": "verified-empire",
   "metadata": {},
   "outputs": [],
   "source": [
    "# Map mobility and weather to special measures by location and date range\n",
    "fact_table_data[\"Special_measures_key\"] = \"\"\n",
    "for idx, row in fact_table_data.iterrows():\n",
    "    if row[\"Station Name\"]==\"Ottawa\":\n",
    "        for idx_sm, row_sm in special_measures_dimension.head(5).iterrows():\n",
    "            special_measures_key=row_sm[\"Special_measures_key\"]\n",
    "            start_date=datetime.strptime(row_sm[\"start_date\"], \"%Y-%m-%d\")\n",
    "            end_date=datetime.strptime(row_sm[\"end_date\"], \"%Y-%m-%d\")\n",
    "            date=datetime.strptime(row[\"Date\"], \"%Y-%m-%d\")\n",
    "            if (start_date <= date < end_date):\n",
    "                fact_table_data.at[idx, 'Special_measures_key']=special_measures_key\n",
    "    if row[\"Station Name\"]==\"Toronto\":\n",
    "        for idx_sm, row_sm in special_measures_dimension.tail(6).iterrows():\n",
    "            special_measures_key=row_sm[\"Special_measures_key\"]\n",
    "            start_date=datetime.strptime(row_sm[\"start_date\"], \"%Y-%m-%d\")\n",
    "            end_date=datetime.strptime(row_sm[\"end_date\"], \"%Y-%m-%d\")\n",
    "            date=datetime.strptime(row[\"Date\"], \"%Y-%m-%d\")\n",
    "            if (start_date <= date < end_date):\n",
    "                fact_table_data.at[idx, 'Special_measures_key']=special_measures_key"
   ]
  },
  {
   "cell_type": "code",
   "execution_count": 369,
   "id": "critical-figure",
   "metadata": {},
   "outputs": [],
   "source": [
    "# Drop columns not needed for fact table creation\n",
    "fact_table_data=fact_table_data.drop(columns=[\"Province\", \"Grocery_and_phramacy\", \"Parks\", \"Transit_stations\", \"Workplaces\", \"Residential\", \n",
    "                              \"Retail_and_recreation\", \"Mean Temp (°C)\", \"Min Temp (°C)\", \"Max Temp (°C)\", \"Total Precip (mm)\",\n",
    "                                              \"Station Name\", \"Date/Time\"])"
   ]
  },
  {
   "cell_type": "code",
   "execution_count": 370,
   "id": "fixed-huntington",
   "metadata": {},
   "outputs": [],
   "source": [
    "for idx, row in fact_table_data.iterrows():\n",
    "    fact_row=[row[\"Mobility_key\"], row[\"Weather_key\"], row[\"Special_measures_key\"]]\n",
    "    fact_table.loc[len(fact_table)] = fact_row"
   ]
  },
  {
   "cell_type": "code",
   "execution_count": 371,
   "id": "intellectual-agenda",
   "metadata": {},
   "outputs": [],
   "source": [
    "fact_table.to_csv(\"fact_table.csv\", index=False)"
   ]
  },
  {
   "cell_type": "code",
   "execution_count": 372,
   "id": "dated-pharmaceutical",
   "metadata": {},
   "outputs": [
    {
     "data": {
      "text/html": [
       "<div>\n",
       "<style scoped>\n",
       "    .dataframe tbody tr th:only-of-type {\n",
       "        vertical-align: middle;\n",
       "    }\n",
       "\n",
       "    .dataframe tbody tr th {\n",
       "        vertical-align: top;\n",
       "    }\n",
       "\n",
       "    .dataframe thead th {\n",
       "        text-align: right;\n",
       "    }\n",
       "</style>\n",
       "<table border=\"1\" class=\"dataframe\">\n",
       "  <thead>\n",
       "    <tr style=\"text-align: right;\">\n",
       "      <th></th>\n",
       "      <th>Mobility_key</th>\n",
       "      <th>Date</th>\n",
       "      <th>Subregion</th>\n",
       "      <th>Weather_key</th>\n",
       "      <th>Special_measures_key</th>\n",
       "    </tr>\n",
       "  </thead>\n",
       "  <tbody>\n",
       "    <tr>\n",
       "      <th>0</th>\n",
       "      <td>0</td>\n",
       "      <td>2020-10-27</td>\n",
       "      <td>Ottawa</td>\n",
       "      <td>0</td>\n",
       "      <td>0</td>\n",
       "    </tr>\n",
       "    <tr>\n",
       "      <th>1</th>\n",
       "      <td>1</td>\n",
       "      <td>2020-10-28</td>\n",
       "      <td>Ottawa</td>\n",
       "      <td>1</td>\n",
       "      <td>0</td>\n",
       "    </tr>\n",
       "    <tr>\n",
       "      <th>2</th>\n",
       "      <td>2</td>\n",
       "      <td>2020-10-29</td>\n",
       "      <td>Ottawa</td>\n",
       "      <td>2</td>\n",
       "      <td>0</td>\n",
       "    </tr>\n",
       "    <tr>\n",
       "      <th>3</th>\n",
       "      <td>3</td>\n",
       "      <td>2020-10-30</td>\n",
       "      <td>Ottawa</td>\n",
       "      <td>3</td>\n",
       "      <td>0</td>\n",
       "    </tr>\n",
       "    <tr>\n",
       "      <th>4</th>\n",
       "      <td>4</td>\n",
       "      <td>2020-10-31</td>\n",
       "      <td>Ottawa</td>\n",
       "      <td>4</td>\n",
       "      <td>0</td>\n",
       "    </tr>\n",
       "    <tr>\n",
       "      <th>...</th>\n",
       "      <td>...</td>\n",
       "      <td>...</td>\n",
       "      <td>...</td>\n",
       "      <td>...</td>\n",
       "      <td>...</td>\n",
       "    </tr>\n",
       "    <tr>\n",
       "      <th>241</th>\n",
       "      <td>242</td>\n",
       "      <td>2021-02-22</td>\n",
       "      <td>Toronto</td>\n",
       "      <td>241</td>\n",
       "      <td>10</td>\n",
       "    </tr>\n",
       "    <tr>\n",
       "      <th>242</th>\n",
       "      <td>243</td>\n",
       "      <td>2021-02-23</td>\n",
       "      <td>Toronto</td>\n",
       "      <td>242</td>\n",
       "      <td>10</td>\n",
       "    </tr>\n",
       "    <tr>\n",
       "      <th>243</th>\n",
       "      <td>244</td>\n",
       "      <td>2021-02-24</td>\n",
       "      <td>Toronto</td>\n",
       "      <td>243</td>\n",
       "      <td>10</td>\n",
       "    </tr>\n",
       "    <tr>\n",
       "      <th>244</th>\n",
       "      <td>245</td>\n",
       "      <td>2021-02-25</td>\n",
       "      <td>Toronto</td>\n",
       "      <td>244</td>\n",
       "      <td>10</td>\n",
       "    </tr>\n",
       "    <tr>\n",
       "      <th>245</th>\n",
       "      <td>246</td>\n",
       "      <td>2021-02-26</td>\n",
       "      <td>Toronto</td>\n",
       "      <td>245</td>\n",
       "      <td>10</td>\n",
       "    </tr>\n",
       "  </tbody>\n",
       "</table>\n",
       "<p>246 rows × 5 columns</p>\n",
       "</div>"
      ],
      "text/plain": [
       "     Mobility_key        Date Subregion  Weather_key Special_measures_key\n",
       "0               0  2020-10-27    Ottawa            0                    0\n",
       "1               1  2020-10-28    Ottawa            1                    0\n",
       "2               2  2020-10-29    Ottawa            2                    0\n",
       "3               3  2020-10-30    Ottawa            3                    0\n",
       "4               4  2020-10-31    Ottawa            4                    0\n",
       "..            ...         ...       ...          ...                  ...\n",
       "241           242  2021-02-22   Toronto          241                   10\n",
       "242           243  2021-02-23   Toronto          242                   10\n",
       "243           244  2021-02-24   Toronto          243                   10\n",
       "244           245  2021-02-25   Toronto          244                   10\n",
       "245           246  2021-02-26   Toronto          245                   10\n",
       "\n",
       "[246 rows x 5 columns]"
      ]
     },
     "execution_count": 372,
     "metadata": {},
     "output_type": "execute_result"
    }
   ],
   "source": [
    "fact_table_data"
   ]
  },
  {
   "cell_type": "code",
   "execution_count": null,
   "id": "treated-munich",
   "metadata": {},
   "outputs": [],
   "source": []
  }
 ],
 "metadata": {
  "kernelspec": {
   "display_name": "Python 3",
   "language": "python",
   "name": "python3"
  },
  "language_info": {
   "codemirror_mode": {
    "name": "ipython",
    "version": 3
   },
   "file_extension": ".py",
   "mimetype": "text/x-python",
   "name": "python",
   "nbconvert_exporter": "python",
   "pygments_lexer": "ipython3",
   "version": "3.6.9"
  }
 },
 "nbformat": 4,
 "nbformat_minor": 5
}
